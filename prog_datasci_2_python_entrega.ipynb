{
  "cells": [
    {
      "cell_type": "markdown",
      "metadata": {
        "id": "view-in-github",
        "colab_type": "text"
      },
      "source": [
        "<a href=\"https://colab.research.google.com/github/sansalvadorjose/r-basic/blob/master/prog_datasci_2_python_entrega.ipynb\" target=\"_parent\"><img src=\"https://colab.research.google.com/assets/colab-badge.svg\" alt=\"Open In Colab\"/></a>"
      ]
    },
    {
      "cell_type": "markdown",
      "metadata": {
        "id": "xy_6wNlvB_vl"
      },
      "source": [
        "<div style=\"width: 100%; clear: both;\">\n",
        "    <div style=\"float: left; width: 50%;\">\n",
        "       <img src=\"http://www.uoc.edu/portal/_resources/common/imatges/marca_UOC/UOC_Masterbrand.jpg\", align=\"left\">\n",
        "    </div>\n",
        "</div>\n",
        "\n",
        "<div style=\"float: right; width: 50%;\">\n",
        "    <p style=\"margin: 0; padding-top: 22px; text-align:right;\">22.501 · Fundamentos de Programación</p>\n",
        "    <p style=\"margin: 0; text-align:right;\">Grado en Ciencia de Datos Aplicada</p>\n",
        "    <p style=\"margin: 0; text-align:right; padding-button: 100px;\">Estudios de Informática, Multimedia y Telecomunicaciones</p>\n",
        "</div>\n",
        "\n",
        "</div>\n",
        "<div style=\"width: 100%; clear: both;\">\n",
        "<div style=\"width:100%;\">&nbsp;</div>"
      ]
    },
    {
      "cell_type": "markdown",
      "metadata": {
        "id": "bjwMOVOmB_vo"
      },
      "source": [
        "Programación para *Data Science*\n",
        "============================\n",
        "\n",
        "PEC 2 - Introducción a Python\n",
        "-----------------------------------------------------\n",
        "\n",
        "En este Notebook encontraréis el conjunto de actividades evaluables como PEC de la asignatura. Veréis que cada una de ellas tiene asociada una puntuación, que indica el peso que tiene la actividad sobre la nota final de la PEC. Adicionalmente, hay un ejercicio opcional, que no tiene puntuación dentro de la PEC, pero que se valora al final del semestre de cara a conceder las matrículas de honor y redondear las notas finales. Podréis sacar la máxima nota de la PEC sin necesidad de hacer este ejercicio. El objetivo de este ejercicio es que sirva como pequeño reto para los estudiantes que quieran profundizar en el contenido de la asignatura.\n",
        "\n",
        "Veréis que todas las actividades de la PEC tienen una etiqueta, que indica los recursos necesarios para llevarla a cabo. Hay tres posibles etiquetas:\n",
        "\n",
        "* $\\color{green}{\\text{NM}}$ **Sólo materiales**: las herramientas necesarias para realizar la actividad se pueden encontrar en los materiales de la asignatura.\n",
        "\n",
        "* $\\color{orange}{\\text{EG}}$ **Consulta externa guiada**: la actividad puede requerir hacer uso de herramientas que no se encuentran en los materiales de la asignatura, pero el enunciado contiene indicaciones de dónde o cómo encontrar la información adicional necesaria para resolver la actividad.\n",
        "\n",
        "* $\\color{red}{\\text{EI}}$ **Consulta externa independiente**: la actividad puede requerir hacer uso de herramientas que no se encuentran en los materiales de la asignatura, y el enunciado puede no incluir la descripción de dónde o cómo encontrar esta información adicional. Será necesario que el estudiante busque esta información utilizando los recursos que se han explicado en la asignatura.\n",
        "\n",
        "Es importante notar que estas etiquetas no indican el nivel de dificultad del ejercicio, sino únicamente la necesidad de consulta de documentación externa para su resolución. Además, recordad que las **etiquetas son informativas**, pero podréis consultar referencias externas en cualquier momento (aunque no se indique explícitamente) o puede ser que podáis hacer una actividad sin consultar ningún tipo de documentación. Por ejemplo, para resolver una actividad que sólo requiera los materiales de la asignatura, podéis consultar referencias externas si queréis, ya sea tanto para ayudaros en la resolución como para ampliar el conocimiento!\n",
        "\n",
        "En cuanto a la consulta de documentación externa en la resolución de los ejercicios, recordad **citar siempre la bibliografía utilizada** para resolver cada actividad.\n",
        "\n",
        "---"
      ]
    },
    {
      "cell_type": "markdown",
      "metadata": {
        "id": "wK8CdBYDB_vp"
      },
      "source": [
        "Ejercicios y  preguntas teóricas. \n",
        "-------------------------------"
      ]
    },
    {
      "cell_type": "markdown",
      "metadata": {
        "id": "Gc6rniYuB_vp"
      },
      "source": [
        "### Pregunta 1\n",
        "\n",
        "En Python, hay un conjunto de palabras que no se pueden usar para declarar variables, puesto que tienen un significado especial y su nombre está reservado para ciertas tareas internas del lenguaje de programación. Estas palabras se conocen como **palabras reservadas**. ¿Cuáles de las siguientes palabras corresponden a palabras reservadas? Haz una breve descripción de las palabras que lo sean. **(0.5 puntos)**  $\\color{green}{\\text{NM}}$\n",
        "\n",
        "a) while\n",
        "\n",
        "b) return\n",
        "\n",
        "c) inout\n",
        "\n",
        "d) asis\n",
        "\n",
        "e) False\n",
        "\n",
        "f) beta"
      ]
    },
    {
      "cell_type": "code",
      "execution_count": null,
      "metadata": {
        "id": "VDbYJU74B_vq"
      },
      "outputs": [],
      "source": [
        "# Respuesta\n",
        "\n",
        "#Palabras reservadas y su función\n",
        "#while : Es un comando para bucles que repite una acción hasta que alcance un valor determinado\n",
        "#return : Se utiliza en una función para que devuelva el resultado\n",
        "#False : Es el resultado de una comparación booleana"
      ]
    },
    {
      "cell_type": "markdown",
      "metadata": {
        "id": "zh1bJo1LB_vr"
      },
      "source": [
        "### Ejercicio 1\n",
        "\n",
        "Proporcionad un ejemplo para cada uno de los tipos de variables que se enumeran a continuación:\n",
        "\n",
        "* a) Número entero diferente a 0\n",
        "\n",
        "* b) Número decimal con dos decimales\n",
        "\n",
        "* c) Cadena de caracteres con una longitud mínima de 5 caracteres\n",
        "\n",
        "* d) Listado de 4 nombres de persona\n",
        "\n",
        "\n",
        "A continuación, realizad las operaciones `/` y `//` entre el número definido en el apartado `a` y el número definido en el apartado `b`. Asignad  cada resultado a una variable y mostradlas por pantalla. ¿Se obtienen resultados diferentes? ¿Por qué?. **(1 punto)** $\\color{green}{\\text{NM}}$\n"
      ]
    },
    {
      "cell_type": "code",
      "execution_count": 2,
      "metadata": {
        "colab": {
          "base_uri": "https://localhost:8080/"
        },
        "id": "zR4abhBmB_vr",
        "outputId": "343bac6e-2780-4925-bd8f-7a967f71069d"
      },
      "outputs": [
        {
          "output_type": "stream",
          "name": "stdout",
          "text": [
            "2.608695652173913\n",
            "2.0\n"
          ]
        }
      ],
      "source": [
        "# Respuesta\n",
        "a=15\n",
        "b=5.75\n",
        "c=\"Hola Mundo\"\n",
        "d=[\"Pedro\",\"Pablo\",\"José\",\"Jesús\"]\n",
        "#Operaciones con / y //\n",
        "e=a/b\n",
        "f=a//b\n",
        "print(e)\n",
        "print(f)\n",
        "\n",
        "#El operador / devuelve el resultado de una división mientras que el operador // devuelve el resultado entero de la misma(nos devuelve el resultado con un decimal cero porque el resultado de la operación entre un int y un float es float)"
      ]
    },
    {
      "cell_type": "markdown",
      "metadata": {
        "id": "AhQqH3AXB_vs"
      },
      "source": [
        "### Ejercicio 2\n",
        "\n",
        "Definid la función `resta(x,y)` donde `x` y `y` son dos números enteros diferentes de 0. Esta función tiene que mostrar por pantalla el **valor absoluto** de la diferencia entre los valores `x` y `y`. **(1 punto)**\n",
        "\n",
        "A continuación encontraréis un conjunto de ejemplos de respuestas esperadas (test cases). La primera columna contiene los valores de `x` y la segunda columna contiene los valores de `y`. Ejecutad y mostrad cada uno de los ejemplos por pantalla.**(0.5 puntos)**\n",
        "\n",
        "<center>\n",
        "    \n",
        "|x | y  | Resultado |\n",
        "| :---:          | :---:    |  :---:   |\n",
        "| 3 | 2  | 1 | \n",
        "| 4 | 6   | 2   | \n",
        "| 10 | -10 | 20 |\n",
        "\n",
        "</center>\n",
        "\n",
        "\n",
        "**Nota**: Para resolver este ejercicio tenéis que utilizar la función `abs()` que podéis consultar en el seguiente [link](https://docs.python.org/3/library/functions.html?highlight=abs#abs).\n",
        "**(1.5 puntos)** $\\color{orange}{\\text{EG}}$"
      ]
    },
    {
      "cell_type": "code",
      "execution_count": 4,
      "metadata": {
        "colab": {
          "base_uri": "https://localhost:8080/"
        },
        "id": "G838yBnOB_vt",
        "outputId": "b7d8c3b3-373a-4ace-af60-3fad45657d28"
      },
      "outputs": [
        {
          "output_type": "stream",
          "name": "stdout",
          "text": [
            "No se acepta el número 0\n",
            "2\n",
            "2\n"
          ]
        }
      ],
      "source": [
        "# Respuesta\n",
        "#Definimos la función\n",
        "\n",
        "def resta(x,y):\n",
        "  if x==0 or y==0:\n",
        "    print(\"No se acepta el número 0\")\n",
        "  else:\n",
        "    print(abs(x-y))\n",
        "\n",
        "#Comprobamos el resultado\n",
        "resta(0,1)\n",
        "resta(1,3)\n",
        "resta(3,1)"
      ]
    },
    {
      "cell_type": "markdown",
      "metadata": {
        "id": "K0MxGPWrB_vu"
      },
      "source": [
        "### Ejercicio 3\n",
        "Cread el string **roxanneENNAXORanneRox** en una única expresión y utilizando solamente la variable m = `roxanne`.\n",
        "\n",
        "**Nota**: Para resolver este ejercicio tenéis que utilizar las funciones para convertir un string en mayúsculas que podéis consultar en el seguiente [link](https://docs.python.org/3/library/stdtypes.html?highlight=upper#str.upper).\n",
        "**(1 punto)** $\\color{orange}{\\text{EG}}$"
      ]
    },
    {
      "cell_type": "code",
      "execution_count": 8,
      "metadata": {
        "colab": {
          "base_uri": "https://localhost:8080/"
        },
        "id": "HESfaB1cB_vu",
        "outputId": "115fc740-86b6-49d0-f40e-392e7d8067d8"
      },
      "outputs": [
        {
          "output_type": "stream",
          "name": "stdout",
          "text": [
            "roxanneENNAXORanneRox\n"
          ]
        }
      ],
      "source": [
        "# Respuesta\n",
        "\n",
        "a3=\"roxanne\"\n",
        "b3=a3+str.upper(a3[::-1])+a3[3:8]+str.capitalize(a3[0:3])\n",
        "\n",
        "#comprobamos la respuesta\n",
        "print(b3)"
      ]
    },
    {
      "cell_type": "markdown",
      "metadata": {
        "id": "Zfb5QYKmB_vu"
      },
      "source": [
        "### Ejercicio 4\n",
        "\n",
        "Considerando las tres variables siguientes `z = 3`, `r = 9` y `x = 7`, escribid las seguientes operaciones lógicas y mostrad el resultado por pantalla.\n",
        "        \n",
        "        1. z es más pequeño o igual a x y r es diferente a x.\n",
        "        2. r es igual a z.\n",
        "        3. x es más pequeño que z o r es más grande o igual a x.\n",
        "\n",
        "**(1 punto)** $\\color{green}{\\text{NM}}$\n"
      ]
    },
    {
      "cell_type": "code",
      "execution_count": 17,
      "metadata": {
        "colab": {
          "base_uri": "https://localhost:8080/"
        },
        "id": "-pQFQKaYB_vu",
        "outputId": "61aff1dc-a712-4cb0-d77d-e6ed24c5bf5d"
      },
      "outputs": [
        {
          "output_type": "stream",
          "name": "stdout",
          "text": [
            "La respuesta 1 es True\n",
            "La respuesta 2 es False\n",
            "La respuesta 3 es True\n"
          ]
        }
      ],
      "source": [
        "# Respuesta\n",
        "z=3\n",
        "r=9\n",
        "x=7\n",
        "#1\n",
        "a4=(z<=a and r!=x)\n",
        "#2\n",
        "b4=(r==z)\n",
        "#3\n",
        "c4=(x<z or r>=x)\n",
        "\n",
        "#Mostramos la respuestas\n",
        "print(\"La respuesta 1 es \"+str(a4))\n",
        "print(\"La respuesta 2 es \"+str(b4))\n",
        "print(\"La respuesta 3 es \"+str(c4))"
      ]
    },
    {
      "cell_type": "markdown",
      "metadata": {
        "id": "_eiHD8RfB_vv"
      },
      "source": [
        "### Ejercicio 5\n",
        "\n",
        "Cread una lista de 5 elementos formada por números enteros diferentes. Mediante las funciones de la llibrería de Python `Numpy`, cread un código para responder cada una de las siguientes preguntas y mostrad el resultado por pantalla. \n",
        "\n",
        "a) Calculad la suma de todos los elementos de la lista.**(0.5 puntos)**\n",
        "\n",
        "b) Calculad el máximo y el mínimo de la lista.**(0.5 puntos)**\n",
        "\n",
        "c) Calculad la desviación estándard con dos números decimales.**(0.5 puntos)**\n",
        "\n",
        "d) Ordenad la lista de mayor a menor.**Opcional**\n",
        "\n",
        "**(1.5 punts)** $\\color{green}{\\text{NM}}$"
      ]
    },
    {
      "cell_type": "code",
      "execution_count": 26,
      "metadata": {
        "colab": {
          "base_uri": "https://localhost:8080/"
        },
        "id": "OxZ1UTg7B_vv",
        "outputId": "73c62c42-8f00-4ff6-be21-f6ee6917f771"
      },
      "outputs": [
        {
          "output_type": "stream",
          "name": "stdout",
          "text": [
            "La suma es: 165\n",
            "El máximo es: 55\n",
            "El mínimo es: 11\n",
            "La desviación stándard es: 15.56\n",
            "La lista en orden inverso es: [55, 44, 33, 22, 11]\n"
          ]
        }
      ],
      "source": [
        "# Respuesta \n",
        "import numpy\n",
        "lista=[11,22,33,44,55]\n",
        "print(\"La suma es: \"+str(sum(lista)))\n",
        "print(\"El máximo es: \"+str(max(lista)))\n",
        "print(\"El mínimo es: \"+str(min(lista)))\n",
        "print(\"La desviación stándard es: \"+str(round(numpy.std(lista),2)))\n",
        "print(\"La lista en orden inverso es: \"+str(sorted(lista,reverse=True)))"
      ]
    },
    {
      "cell_type": "markdown",
      "metadata": {
        "id": "CUNa1SkcB_vv"
      },
      "source": [
        "### Ejercicio 6\n",
        "\n",
        "A partir del código que se muestra en la celda seguiente:\n",
        "    \n",
        "a) Añadir comentarios para entender mejor cada paso. **(0.5 puntos)**\n",
        "\n",
        "b) Añadir el elemento \"FutureIslands\" en la lista original. **(0.5 puntos)**\n",
        "\n",
        "c) Escrivid un programa que a partir de la lista de los grupos de música muestre por pantalla todos los grupos de música separados entre ellos por un guión. **Opcional**\n",
        "\n",
        "\n",
        "**(1 punt)** $\\color{green}{\\text{NM}}$"
      ]
    },
    {
      "cell_type": "code",
      "execution_count": 29,
      "metadata": {
        "colab": {
          "base_uri": "https://localhost:8080/"
        },
        "id": "em7eah14B_vv",
        "outputId": "b6a9d4d0-63f4-441c-f9e0-727eb7b76cf0"
      },
      "outputs": [
        {
          "output_type": "stream",
          "name": "stdout",
          "text": [
            "['U2', 'REM', 'TheFoals', 'ColdPlay', 'ArcadeFire', 'TheNational']\n",
            "ArcadeFire-TheFoals-REM-ColdPlay-U2-TheNational-FutureIslands\n"
          ]
        }
      ],
      "source": [
        "\n",
        "#Definimos una lista con nombres de grupo musical\n",
        "music = [\"ArcadeFire\",\"TheFoals\",\"REM\",\"ColdPlay\",\"U2\",\"TheNational\"]\n",
        "#Creamos una variable con los grupos musicales ordenados por la longitud de sus nombre\n",
        "music_sorted=sorted(music, key=len)\n",
        "#Mostramos la variable con los grupos ordenados por el tamaño de su nombre\n",
        "print(music_sorted)\n",
        "#Añadir elemento a la lista\n",
        "music.append(\"FutureIslands\")\n",
        "print(*music,sep=\"-\")\n"
      ]
    },
    {
      "cell_type": "code",
      "execution_count": null,
      "metadata": {
        "id": "fr8BB0BpB_vw"
      },
      "outputs": [],
      "source": [
        "# Respuesta"
      ]
    },
    {
      "cell_type": "markdown",
      "metadata": {
        "id": "aheCGjeHB_vw"
      },
      "source": [
        "### Ejercicio 7\n",
        "\n",
        "Queremos guardar los títulos de libros que os habéis leído con la valoración numérica del 0 al 10 para saber si os ha gustado poco o mucho.  Para hacer esto, crearemos un **diccionario** donde guardaremos el título del libro, donde sustituiremos los espacios por `_`, y la valoración númerica con un decimal. \n",
        "\n",
        "a) ¿Qué variable utilizaríais como llave para crear un diccionario y cuál como valor si queremos acceder a la información del diccionario mediante el títol del libro? Crea un diccionario con 5 elementos y muestralos por pantalla. **(0.5 puntos)** \n",
        "\n",
        "b) Muestra solamente las llaves existentes. **(0.25 puntos)**\n",
        "\n",
        "c) Ordena el diccionario según valoración numérica de mayor a menor **(0.25 puntos)** \n",
        "\n",
        "**(1 punto)** $\\color{green}{\\text{NM}}$"
      ]
    },
    {
      "cell_type": "code",
      "execution_count": null,
      "metadata": {
        "id": "i_fw08cGB_vw"
      },
      "outputs": [],
      "source": [
        "# Respuesta\n",
        "\n",
        "libros={1:\"Dune_10.0\",2:\"El_código_Da_Vincci_\",3:\"Silmarillion\",4:\"Yo_Robot\",5:\"Alatriste\"}"
      ]
    },
    {
      "cell_type": "markdown",
      "metadata": {
        "id": "i9kwVM9HB_vx"
      },
      "source": [
        "### Ejercicio 8\n",
        "\n",
        "Cread un fragmento de código que muestre per pantalla `True` si la longitud de un determinado string es más grande a 10 o `False` si la longitud es más pequeña o igual a 10. El código tiene que permetir introducir un string por pantalla. **(1 punto)** $\\color{orange}{\\text{EG}}$"
      ]
    },
    {
      "cell_type": "code",
      "execution_count": null,
      "metadata": {
        "id": "fpnl26GxB_vx"
      },
      "outputs": [],
      "source": [
        "# Respuesta\n",
        "\n"
      ]
    },
    {
      "cell_type": "markdown",
      "metadata": {
        "id": "9ifb6F3yB_vx"
      },
      "source": [
        "### Ejercicio 9\n",
        "El código que se presenta a continuación no funciona. Corregid el error y explicad por qué sucede. **(0.5 puntos)** $\\color{green}{\\text{NM}}$\n",
        " "
      ]
    },
    {
      "cell_type": "code",
      "execution_count": null,
      "metadata": {
        "id": "idE8KoXtB_vx",
        "outputId": "e0e61995-ece6-4d21-c084-eb455f87ad29"
      },
      "outputs": [
        {
          "ename": "TypeError",
          "evalue": "%d format: a number is required, not str",
          "output_type": "error",
          "traceback": [
            "\u001b[0;31m---------------------------------------------------------------------------\u001b[0m",
            "\u001b[0;31mTypeError\u001b[0m                                 Traceback (most recent call last)",
            "\u001b[0;32m<ipython-input-3-f46dfc3f10c9>\u001b[0m in \u001b[0;36m<module>\u001b[0;34m\u001b[0m\n\u001b[1;32m      3\u001b[0m \u001b[0msatellite\u001b[0m \u001b[0;34m=\u001b[0m \u001b[0;34m\"Moon\"\u001b[0m\u001b[0;34m\u001b[0m\u001b[0;34m\u001b[0m\u001b[0m\n\u001b[1;32m      4\u001b[0m \u001b[0;34m\u001b[0m\u001b[0m\n\u001b[0;32m----> 5\u001b[0;31m \u001b[0mprint\u001b[0m\u001b[0;34m(\u001b[0m\u001b[0;34m\"The %d is Earth's only natural satellite. Its radius is approximatly %d km\"\u001b[0m \u001b[0;34m%\u001b[0m \u001b[0;34m(\u001b[0m\u001b[0msatellite\u001b[0m\u001b[0;34m,\u001b[0m \u001b[0mradius\u001b[0m\u001b[0;34m)\u001b[0m\u001b[0;34m)\u001b[0m\u001b[0;34m\u001b[0m\u001b[0;34m\u001b[0m\u001b[0m\n\u001b[0m",
            "\u001b[0;31mTypeError\u001b[0m: %d format: a number is required, not str"
          ]
        }
      ],
      "source": [
        "radius = 1700\n",
        "\n",
        "satellite = \"Moon\"\n",
        "\n",
        "print(\"The %d is Earth's only natural satellite. Its radius is approximatly %d km\" % (satellite, radius))"
      ]
    },
    {
      "cell_type": "code",
      "execution_count": 31,
      "metadata": {
        "colab": {
          "base_uri": "https://localhost:8080/"
        },
        "id": "2O0AgvwnB_vx",
        "outputId": "3090fb17-ba68-40f8-edea-86a9cfef10ab"
      },
      "outputs": [
        {
          "output_type": "stream",
          "name": "stdout",
          "text": [
            "The Moon is Earth's only natural satellite. Its radius is approximatly 1700 km\n"
          ]
        }
      ],
      "source": [
        "# Respuesta\n",
        "radius = 1700\n",
        "\n",
        "satellite = \"Moon\"\n",
        "\n",
        "print(\"The \"+satellite+\" is Earth's only natural satellite. Its radius is approximatly %d km\" % (radius))\n",
        "\n",
        "#La inserción en cadenas con % solo es para variables númericas"
      ]
    }
  ],
  "metadata": {
    "kernelspec": {
      "display_name": "Python 3",
      "language": "python",
      "name": "python3"
    },
    "language_info": {
      "codemirror_mode": {
        "name": "ipython",
        "version": 3
      },
      "file_extension": ".py",
      "mimetype": "text/x-python",
      "name": "python",
      "nbconvert_exporter": "python",
      "pygments_lexer": "ipython3",
      "version": "3.7.6"
    },
    "colab": {
      "provenance": [],
      "include_colab_link": true
    }
  },
  "nbformat": 4,
  "nbformat_minor": 0
}