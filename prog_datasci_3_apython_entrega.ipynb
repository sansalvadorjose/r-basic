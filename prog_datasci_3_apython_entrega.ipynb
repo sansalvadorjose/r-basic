{
  "cells": [
    {
      "cell_type": "markdown",
      "metadata": {
        "id": "view-in-github",
        "colab_type": "text"
      },
      "source": [
        "<a href=\"https://colab.research.google.com/github/sansalvadorjose/r-basic/blob/master/prog_datasci_3_apython_entrega.ipynb\" target=\"_parent\"><img src=\"https://colab.research.google.com/assets/colab-badge.svg\" alt=\"Open In Colab\"/></a>"
      ]
    },
    {
      "cell_type": "markdown",
      "metadata": {
        "id": "wlzkQ-YP7ANZ"
      },
      "source": [
        "<div style=\"width: 100%; clear: both;\">\n",
        "    <div style=\"float: left; width: 50%;\">\n",
        "       <img src=\"http://www.uoc.edu/portal/_resources/common/imatges/marca_UOC/UOC_Masterbrand.jpg\", align=\"left\">\n",
        "    </div>\n",
        "</div>\n",
        "\n",
        "<div style=\"float: right; width: 50%;\">\n",
        "    <p style=\"margin: 0; padding-top: 22px; text-align:right;\">22.501 · Fundamentos de Programación</p>\n",
        "    <p style=\"margin: 0; text-align:right;\">Grado en Ciencia de Datos Aplicada</p>\n",
        "    <p style=\"margin: 0; text-align:right; padding-button: 100px;\">Estudios de Informática, Multimedia y Telecomunicación</p>\n",
        "</div>\n",
        "\n",
        "</div>\n",
        "<div style=\"width: 100%; clear: both;\">\n",
        "<div style=\"width:100%;\">&nbsp;</div>"
      ]
    },
    {
      "cell_type": "markdown",
      "metadata": {
        "id": "b3-P-rXx7ANe"
      },
      "source": [
        "Fundamentos de Programación\n",
        "============================\n",
        "\n",
        "PAC 3 - Enunciado\n",
        "-----------------------------------------------------\n",
        "\n",
        "En este Notebook se encontraréis el conjunto de actividades evaluables como PEC de la asignatura. Veréis que cada una de ellas tiene asociada una puntuación, que indica el peso que tiene la actividad sobre la nota final de la PEC. Adicionalmente, hay un ejercicio opcional, que no tiene puntuación dentro de la PEC, pero que se valora al final del semestre de cara a conceder las matrículas de honor y redondear las notas finales. Podréis sacar la máxima nota de la PAC sin necesidad de hacer este ejercicio. El objetivo de este ejercicio es que sirva como pequeño reto para los estudiantes que quieran profundizar en el contenido de la asignatura.\n",
        "\n",
        "Veréis que todas las actividades de la PEC tienen una etiqueta, que indica los recursos necesarios para llevarla a cabo. Hay tres posibles etiquetas:\n",
        "\n",
        "* <span style=\"font-family: Courier New; background-color: #82b74b; color: #000000; padding: 3px; \">NM</span> **Sólo materiales**: las herramientas necesarias para realizar la actividad se pueden encontrar en los materiales de la asignatura.\n",
        "\n",
        "* <span style = \"font-family: Courier New; background-color: #ffcc5c; color: #000000; padding: 3px; \">EG</span> **Consulta externa guiada**: la actividad puede requerir hacer uso de herramientas que no se encuentran en los materiales de la asignatura, pero el enunciado contiene indicaciones de dónde o cómo encontrar la información adicional necesaria para resolver la actividad.\n",
        "\n",
        "* <span style = \"font-family: Courier New; background-color: #f2ae72; color: #000000; padding: 3px;\">EI</span> **Consulta externa independiente**: la actividad puede requerir hacer uso de herramientas que no se encuentran en los materiales de la asignatura, y el enunciado puede no incluir la descripción de dónde o cómo encontrar esta información adicional. Será necesario que el estudiante busque esta información utilizando los recursos que se han explicado en la asignatura.\n",
        "\n",
        "Es importante notar que estas etiquetas no indican el nivel de dificultad del ejercicio, sino únicamente la necesidad de consulta de documentación externa para su resolución. Además, recordad que las **etiquetas son informativas**, pero podréis consultar referencias externas en cualquier momento (aunque no se indique explícitamente) o puede ser que podáis hacer una actividad sin consultar ningún tipo de documentación. Por ejemplo, para resolver una actividad que sólo requiera los materiales de la asignatura, puedéis consultar referencias externas si queréis, ya sea tanto para ayudaros en la resolución como para ampliar el conocimiento!\n",
        "\n",
        "En cuanto a la consulta de documentación externa en la resolución de los ejercicios, recordad **citar siempre la bibliografía utilizada** para resolver cada actividad.\n",
        "\n",
        "---"
      ]
    },
    {
      "cell_type": "markdown",
      "metadata": {
        "id": "Jt1Thhh-7ANg"
      },
      "source": [
        "## Ejercicios para la PEC\n",
        "\n",
        "A continuación encontraréis los ejercicios que se deben completar en esta PEC y que forman parte de la evaluación de esta unidad."
      ]
    },
    {
      "cell_type": "markdown",
      "metadata": {
        "id": "IiU1sE-M7ANg"
      },
      "source": [
        "### Ejercicio 1\n",
        " "
      ]
    },
    {
      "cell_type": "markdown",
      "metadata": {
        "id": "RQr8GGgC7ANh"
      },
      "source": [
        "Considera la siguiente lista de elementos **(1.5 puntos)**: "
      ]
    },
    {
      "cell_type": "code",
      "execution_count": null,
      "metadata": {
        "id": "5n7Dajcb7ANh"
      },
      "outputs": [],
      "source": [
        "list_elem = [1, 5, 10, \"python\", 33, True]"
      ]
    },
    {
      "cell_type": "markdown",
      "metadata": {
        "id": "SjG5WpdD7ANi"
      },
      "source": [
        "a) Lee el código que aparece a continuación y explica detalladamente en qué consiste y el resultado obtenido. <span style = \"font-family: Courier New; background-color: #82b74b; color: #000000; padding: 3px; \">NM</span> (**0.25 puntos**)\n",
        "\n",
        "**Nota 1**: Puedes consultar este [enllace](https://docs.python.org/3/tutorial/inputoutput.html) para saber más sobre los f-Strings, unas expresiones muy utilizadas con la función *print()*. \n",
        "\n",
        "**Nota 2**: Puedes consultar este [enllace](https://stackoverflow.com/questions/402504/how-to-determine-a-python-variables-type) para conocer la función `type()`. "
      ]
    },
    {
      "cell_type": "code",
      "execution_count": null,
      "metadata": {
        "colab": {
          "base_uri": "https://localhost:8080/"
        },
        "id": "11qHcFr97ANi",
        "outputId": "9bb85e8b-17f5-4cbb-b7bb-b6f1dd42f8f7"
      },
      "outputs": [
        {
          "output_type": "stream",
          "name": "stdout",
          "text": [
            "Element 1 is a  <class 'int'>\n",
            "Element 5 is a  <class 'int'>\n",
            "Element 10 is a  <class 'int'>\n",
            "Element python is a  <class 'str'>\n",
            "Element 33 is a  <class 'int'>\n",
            "Element True is a  <class 'bool'>\n"
          ]
        }
      ],
      "source": [
        "for n in list_elem:\n",
        "    print(f\"Element {n} is a \", type(n))\n"
      ]
    },
    {
      "cell_type": "markdown",
      "metadata": {
        "id": "330SMHoU7ANj"
      },
      "source": [
        "**Respuesta**\n",
        "\n",
        "Utilizamos un bucle para recorrer tola la lista y utilizando el comando type nos diga que clase de elemento es cada uno. Utilizamos f_sttrings para dar formato a una cadena de texto incluyendo una variable de la lista y una expresión."
      ]
    },
    {
      "cell_type": "markdown",
      "metadata": {
        "id": "LqVUdBG57ANk"
      },
      "source": [
        "b) Mientras estábamos trabajando, hemos perdido una parte del código. Tenemos el resultado que obteníamos, pero el código está incompleto y no funciona. A partir de la información que tenemos, reescribe las líneas de código que faltan para obtener el mismo resultado. <span style = \"font-family: Courier New; background-color: #82b74b; color: #000000; padding: 3px; \">NM</span> (**0.5 puntos**)"
      ]
    },
    {
      "cell_type": "code",
      "execution_count": 5,
      "metadata": {
        "id": "FL7wxBp67ANk",
        "colab": {
          "base_uri": "https://localhost:8080/"
        },
        "outputId": "40d11a44-d1d2-4e87-b44d-2feb9d2480c0"
      },
      "outputs": [
        {
          "output_type": "stream",
          "name": "stdout",
          "text": [
            "Element 1 is NOT a string\n",
            "Element 5 is NOT a string\n",
            "Element 10 is NOT a string\n",
            "Element hello is a string\n",
            "Element 33 is NOT a string\n",
            "Element True is NOT a string\n"
          ]
        }
      ],
      "source": [
        "#b1)\n",
        "list_elem = [1, 5, 10, \"hello\", 33, True]\n",
        "for n in list_elem:\n",
        "    # Añade código\n",
        "    if type(n)==str:\n",
        "        print(f\"Element {n} is a string\")\n",
        "    else:\n",
        "        print(f\"Element {n} is NOT a string\")"
      ]
    },
    {
      "cell_type": "code",
      "execution_count": null,
      "metadata": {
        "id": "qClG1Xga7ANl"
      },
      "outputs": [],
      "source": [
        "# Resultado esperado\n",
        "\n",
        "#Element 1 is NOT a string\n",
        "#Element 5 is NOT a string\n",
        "#Element 10 is NOT a string\n",
        "#Element hello is a string\n",
        "#Element 33 is NOT a string\n",
        "#Element True is NOT a string\n"
      ]
    },
    {
      "cell_type": "code",
      "execution_count": 8,
      "metadata": {
        "id": "cEJX73Xg7ANl",
        "colab": {
          "base_uri": "https://localhost:8080/"
        },
        "outputId": "73db5046-547b-4f88-b72a-48adb776feb8"
      },
      "outputs": [
        {
          "output_type": "stream",
          "name": "stdout",
          "text": [
            "Element 1 is an integer\n",
            "Element 5 is an integer\n",
            "Element 10 is an integer\n",
            "Element hello is a string\n",
            "Element 33 is an integer\n",
            "Element True is a Boolean\n"
          ]
        }
      ],
      "source": [
        "#b2)\n",
        "\n",
        "for n in list_elem:\n",
        "    # Añade código\n",
        "    if type(n)==str:\n",
        "        print(f\"Element {n} is a string\")\n",
        "    # Añade código\n",
        "    elif type(n)==bool:\n",
        "        print(f\"Element {n} is a Boolean\")\n",
        "    elif type(n)==int:\n",
        "        print(f\"Element {n} is an integer\")\n",
        "\n",
        "  # Cambio el último else del codigo por un elif, de lo contrario presupondríamos que todo lo que no sea un string o un booleano es un integer (podría ser un float Pej.)"
      ]
    },
    {
      "cell_type": "code",
      "execution_count": null,
      "metadata": {
        "id": "4a3t4QZh7ANm"
      },
      "outputs": [],
      "source": [
        "# Resultado esperado\n",
        "\n",
        "#Element 1 is an integer\n",
        "#Element 5 is an integer\n",
        "#Element 10 is an integer\n",
        "#Element hello is a string\n",
        "#Element 33 is an integer\n",
        "#Element True is a Boolean"
      ]
    },
    {
      "cell_type": "code",
      "execution_count": 9,
      "metadata": {
        "id": "jJYLlDJu7ANm",
        "colab": {
          "base_uri": "https://localhost:8080/"
        },
        "outputId": "879cfb1e-4650-4fa9-d596-c7628eedcd22"
      },
      "outputs": [
        {
          "output_type": "stream",
          "name": "stdout",
          "text": [
            "Element 1 is an integer\n",
            "Element 5 is an integer\n",
            "Element 10 is an integer\n",
            "Element hello is a string\n",
            "Element 33 is an integer\n",
            "Element True is a Boolean\n"
          ]
        }
      ],
      "source": [
        "## Respuesta\n",
        "for n in list_elem:\n",
        "    # Añade código\n",
        "    if type(n)==str:\n",
        "        print(f\"Element {n} is a string\")\n",
        "    # Añade código\n",
        "    elif type(n)==bool:\n",
        "        print(f\"Element {n} is a Boolean\")\n",
        "    elif type(n)==int:\n",
        "        print(f\"Element {n} is an integer\")\n",
        "# Cambio el último else del codigo por un elif, de lo contrario presupondríamos que todo lo que no sea un string o un booleano es un integer (podría ser un float Pej.)"
      ]
    },
    {
      "cell_type": "markdown",
      "metadata": {
        "id": "g5IRUozE7ANm"
      },
      "source": [
        "c) Escribe un código que, mediante `if`, muestre por pantalla sólo los números 10 y 33 de la lista **list_elem**. <span style = \"font-family: Courier New; background-color: #82b74b; color: #000000; padding: 3px; \">NM</span> (**0.25 puntos**)"
      ]
    },
    {
      "cell_type": "code",
      "execution_count": 10,
      "metadata": {
        "id": "6Irmlcxh7ANn",
        "colab": {
          "base_uri": "https://localhost:8080/"
        },
        "outputId": "afca1276-37f9-4e13-eb4b-692b9ee52cfc"
      },
      "outputs": [
        {
          "output_type": "stream",
          "name": "stdout",
          "text": [
            "10\n",
            "33\n"
          ]
        }
      ],
      "source": [
        "## Respuesta\n",
        "for n in list_elem:\n",
        "  if n==10 or n==33:\n",
        "    print(n)\n",
        "\n"
      ]
    },
    {
      "cell_type": "markdown",
      "metadata": {
        "id": "pgbK2DQu7ANn"
      },
      "source": [
        "d) Qué diferencia existe entre el código d1) y el d2)? Ejecútalos y explica en detalle los resultados. <span style = \"font-family: Courier New; background-color: #82b74b; color: #000000; padding: 3px; \">NM</span> (**0.5 puntos**)"
      ]
    },
    {
      "cell_type": "code",
      "execution_count": null,
      "metadata": {
        "id": "VEsBUMKD7ANn",
        "outputId": "2a5c348f-f246-4746-80f0-203cea4d3204"
      },
      "outputs": [
        {
          "name": "stdout",
          "output_type": "stream",
          "text": [
            "1\n",
            "5\n"
          ]
        }
      ],
      "source": [
        "#d1) \n",
        "\n",
        "# Recorremos los elementos de la lista\n",
        "for n in list_elem:\n",
        "    if n == 10:\n",
        "        break\n",
        "        # Mostramos el elemento por pantalla\n",
        "    print(n)"
      ]
    },
    {
      "cell_type": "code",
      "execution_count": 11,
      "metadata": {
        "id": "F6n7wsiQ7ANo",
        "outputId": "cc3c7284-7c18-4cb5-c36f-4832e5b072cc",
        "colab": {
          "base_uri": "https://localhost:8080/"
        }
      },
      "outputs": [
        {
          "output_type": "stream",
          "name": "stdout",
          "text": [
            "1\n",
            "5\n",
            "hello\n",
            "33\n",
            "True\n"
          ]
        }
      ],
      "source": [
        "#d2) \n",
        "\n",
        "# Recorremos los elementos de la lista\n",
        "for n in list_elem:\n",
        "    if n == 10:\n",
        "        continue\n",
        "        # Mostramos el elemento por pantalla\n",
        "    print(n)"
      ]
    },
    {
      "cell_type": "markdown",
      "metadata": {
        "id": "39BJG1sO7ANo"
      },
      "source": [
        "**Respuesta**\n",
        "El código d1 recorre la lista list_elemen hasta encontrar el número 10, entonces interrumpe el bucle con el comando break.\n",
        "El código d2 recorre el bucle hasta que encuentra el número 10, entonces mediante la instrucción continue vuelve al bucle para continuar con el siguiente elemento pero no ejecuta el print."
      ]
    },
    {
      "cell_type": "markdown",
      "metadata": {
        "id": "UKqBY82R7ANo"
      },
      "source": [
        "### Ejercicio 2\n"
      ]
    },
    {
      "cell_type": "markdown",
      "metadata": {
        "id": "wDvYKZRF7ANo"
      },
      "source": [
        "a) Queremos hacer un programa que vaya sumando el dinero que gastamos y que, cuando lleguemos a un límite que definimos nosotros, nos avise y detenga el programa. El código debe tener las siguientes características:\n",
        "- Empezaremos con un dinero inicial 0 y tendremos un límite de 50. <span style = \"font-family: Courier New; background-color: #82b74b; color: #000000; padding: 3px; \">NM</span> (**0.25 puntos**)\n",
        "- En cada iteración, incrementaremos el dinero que hemos gastado por un valor random entre 0 y 10 mediante la función [randint](https://docs.python.org/3/library/random.html#random.randint). <span style = \"font-family: Courier New; background-color: #ffcc5c; color: #000000; padding: 3px; \">EG</span> (**0.5 puntos**)\n",
        "- En cada iteración, se tiene que mostrar por pantalla cuánto dinero hemos gastado y cuánto nos quedan. Es decir, la diferencia entre el límite y el dinero total gastado en cada iteración. <span style = \"font-family: Courier New; background-color: #82b74b; color: #000000; padding: 3px; \">NM</span> (**0.25 puntos**)\n",
        "- Una vez lleguemos o superemos el límite, se deberá avisar por pantalla y mostrar también cuánto dinero hemos gastado finalmente y cuánto nos hemos pasado del límite. <span style = \"font-family: Courier New; background-color: #82b74b; color: #000000; padding: 3px; \">NM</span> (**0.5 puntos**)\n",
        "\n",
        "(**1.5 puntos**)\n"
      ]
    },
    {
      "cell_type": "code",
      "execution_count": 19,
      "metadata": {
        "id": "9hxgbk_m7ANp",
        "colab": {
          "base_uri": "https://localhost:8080/"
        },
        "outputId": "61de6526-88d3-48bd-9dad-863fc9367c52"
      },
      "outputs": [
        {
          "output_type": "stream",
          "name": "stdout",
          "text": [
            "Hemos gastado 10 y nos queda 40\n",
            "Hemos gastado 19 y nos queda 31\n",
            "Hemos gastado 28 y nos queda 22\n",
            "Hemos gastado 35 y nos queda 15\n",
            "Hemos gastado 36 y nos queda 14\n",
            "Hemos gastado 43 y nos queda 7\n",
            "Hemos gastado 48 y nos queda 2\n",
            "Hemos gastado 58 y nos hemos pasado 8\n"
          ]
        }
      ],
      "source": [
        "## Respuesta\n",
        "import random\n",
        "dinero=0\n",
        "while dinero<=50:\n",
        "  dinero=dinero + random.randint(1,10)\n",
        "  dinerodisp=abs(50-dinero)\n",
        "  if dinero<=50:\n",
        "    print(f'Hemos gastado {dinero} y nos queda {dinerodisp}')\n",
        "  else:\n",
        "    print(f'Hemos gastado {dinero} y nos hemos pasado {dinerodisp}')"
      ]
    },
    {
      "cell_type": "markdown",
      "metadata": {
        "id": "dwXJU3007ANp"
      },
      "source": [
        "b) El código anterior es muy interesante y queremos utilizarlo para apuntar lo que gastamos cuando vamos a comprar. Por este motivo, es conveniente ponerlo en forma de función, ya que nos permitirá interaccionar con él más fácilmente.\n",
        "Para ello, tendremos que tener en cuenta los siguientes puntos:\n",
        "- La función deberá tener como parámetro de entrada el límite máximo que podemos gastar. <span style = \"font-family: Courier New; background-color: #82b74b; color: #000000; padding: 3px; \">NM</span> (**0.25 puntos**)\n",
        "- El usuario deberá introducir cada uno de los gastos mediante la función **input**, ya no será un valor aleatorio. <span style = \"font-family: Courier New; background-color: #82b74b; color: #000000; padding: 3px; \">NM</span> (**0.5 puntos**)\n",
        "- Tal y como se ha comentado en el apartado anterior, se deberá mostrar por pantalla cuánto dinero hemos gastado, lo que nos queda, y, si llegamos al límite, se deberá avisar al usuario. <span style = \"font-family: Courier New; background-color: #82b74b; color: #000000; padding: 3px; \">NM</span> (**0.75 puntos**)\n",
        "\n",
        "(**1.5 puntos**)"
      ]
    },
    {
      "cell_type": "code",
      "execution_count": 32,
      "metadata": {
        "id": "3LfHAUXH7ANp",
        "colab": {
          "base_uri": "https://localhost:8080/"
        },
        "outputId": "72ec0477-059a-4ae6-d361-33a022a15673"
      },
      "outputs": [
        {
          "output_type": "stream",
          "name": "stdout",
          "text": [
            "¿Cuál es tu límite?\n",
            "100\n",
            "¿Cuanto has gastado?\n",
            "20\n",
            "Hemos gastado 20 y nos queda 80\n",
            "¿Cuanto has gastado?\n",
            "80\n",
            "Hemos gastado 100 y nos queda 0\n",
            "¿Cuanto has gastado?\n",
            "10\n",
            "***Hemos gastado 110 y nos hemos pasado 10***\n"
          ]
        }
      ],
      "source": [
        "from importlib import import_module\n",
        "## Respuesta\n",
        "print('¿Cuál es tu límite?')\n",
        "x=input()\n",
        "limi=int(x)\n",
        "def gastos(a): \n",
        "  dinero=0 \n",
        "  while dinero<=(limi):\n",
        "    print('¿Cuanto has gastado?')\n",
        "    b=input()\n",
        "    c=int(b)\n",
        "    dinero=dinero + c\n",
        "    dinerodisp=abs(limi-dinero)\n",
        "    if dinero<=(limi):\n",
        "      print(f'Hemos gastado {dinero} y nos queda {dinerodisp}')\n",
        "    else:\n",
        "      print(f'***Hemos gastado {dinero} y nos hemos pasado {dinerodisp}***')\n",
        "gastos(limi)"
      ]
    },
    {
      "cell_type": "markdown",
      "metadata": {
        "id": "dOv9hmdB7ANq"
      },
      "source": [
        "c) La calculadora de gastos funciona bien, pero nos hemos dado cuenta de que si el usuario introduce por error algo que no sea un número, todo el programa falla. Para evitar esta situación, utiliza tu conocimiento sobre gestión de errores y excepciones para obtener el siguiente resultado:\n",
        "- Cuando el usuario introduzca un valor erróneo, el programa le avisará, en lugar de fallar directamente. <span style = \"font-family: Courier New; background-color: #82b74b; color: #000000; padding: 3px; \">NM</span> (**0.5 puntos**)\n",
        "- Una vez que el usuario ha sido avisado, el programa permite introducir el valor de nuevo una vez más. Si vuelve a introducir un valor erróneo, el programa se cierra. <span style = \"font-family: Courier New; background-color: #82b74b; color: #000000; padding: 3px; \">NM</span> (**0.5 puntos**)\n",
        "\n",
        "(**1 punto**)"
      ]
    },
    {
      "cell_type": "code",
      "execution_count": null,
      "metadata": {
        "id": "A8gRUGA27ANq"
      },
      "outputs": [],
      "source": [
        "## Respuesta"
      ]
    },
    {
      "cell_type": "markdown",
      "metadata": {
        "id": "KVK9XubF7ANq"
      },
      "source": [
        "### Ejercicio 3\n"
      ]
    },
    {
      "cell_type": "markdown",
      "metadata": {
        "id": "PDt1StV27ANq"
      },
      "source": [
        "a) Tal y como hemos visto en la teoría, las *list comprehensions* son muy útiles para crear listas en una sola línea de código.\n",
        "A continuación, te proponemos que transformes los códigos siguientes a *list comprehensions*: <span style = \"font-family: Courier New; background-color: #82b74b; color: #000000; padding: 3px; \">NM</span> \n",
        "\n",
        "(**1.5 puntos**)"
      ]
    },
    {
      "cell_type": "code",
      "execution_count": null,
      "metadata": {
        "id": "im7hKmY77ANr",
        "outputId": "509fd078-45d5-4b18-893b-81510b81b594"
      },
      "outputs": [
        {
          "name": "stdout",
          "output_type": "stream",
          "text": [
            "[0, 1, 8, 27, 64]\n"
          ]
        }
      ],
      "source": [
        "#a1) \n",
        "\n",
        "result = []\n",
        "\n",
        "for i in range(5):\n",
        "    result.append(i**3)\n",
        "    \n",
        "print(result)"
      ]
    },
    {
      "cell_type": "code",
      "execution_count": null,
      "metadata": {
        "id": "uXamAjOk7ANr"
      },
      "outputs": [],
      "source": [
        "## Respuesta"
      ]
    },
    {
      "cell_type": "code",
      "execution_count": null,
      "metadata": {
        "id": "fplXuDXf7ANr",
        "outputId": "d9474f21-cd7d-4dda-ad3c-e05d105f38d3"
      },
      "outputs": [
        {
          "name": "stdout",
          "output_type": "stream",
          "text": [
            "[15, 46, 58, 9, 7, 18, 99, 12]\n"
          ]
        }
      ],
      "source": [
        "#a2)\n",
        "\n",
        "list_elem2 = [10, 45, 57, 4, 2, 13, 98, 7]\n",
        "new_list = []\n",
        "\n",
        "for x in list_elem2:\n",
        "    \n",
        "    if x >= 45: \n",
        "        new_list.append(x+1)\n",
        "    else: \n",
        "        new_list.append(x+5)\n",
        "\n",
        "print(new_list)"
      ]
    },
    {
      "cell_type": "code",
      "execution_count": null,
      "metadata": {
        "id": "BFt1Erk47ANs"
      },
      "outputs": [],
      "source": [
        "## Respuesta"
      ]
    },
    {
      "cell_type": "code",
      "execution_count": null,
      "metadata": {
        "id": "i7gyokMZ7ANs",
        "outputId": "c8717538-f3e9-42c8-d46f-4ee13fa77e3b"
      },
      "outputs": [
        {
          "name": "stdout",
          "output_type": "stream",
          "text": [
            "['Alex', 'Anna']\n"
          ]
        }
      ],
      "source": [
        "#a3)\n",
        "\n",
        "names = ['Alex','Peter','Anna','John','Felix','Pedro']\n",
        "new_names = []\n",
        "\n",
        "for name in names: \n",
        "    if name.lower().startswith('a'):\n",
        "        new_names.append(name)\n",
        "\n",
        "print(new_names)"
      ]
    },
    {
      "cell_type": "code",
      "execution_count": null,
      "metadata": {
        "id": "ykwDoBWM7ANs"
      },
      "outputs": [],
      "source": [
        "## Respuesta"
      ]
    },
    {
      "cell_type": "markdown",
      "metadata": {
        "id": "-UQWZgIx7ANs"
      },
      "source": [
        "b) Hemos creado la siguiente list comprehension y nos hemos fijado en que como resultado tenemos una lista de `None`. Piensa y explica por qué obtenemos este resultado.(**Opcional**)"
      ]
    },
    {
      "cell_type": "code",
      "execution_count": null,
      "metadata": {
        "id": "U9y0KCDn7ANs",
        "outputId": "af728251-af6d-4b85-c767-b9227dfb35ba"
      },
      "outputs": [
        {
          "name": "stdout",
          "output_type": "stream",
          "text": [
            "Ànimos, aún es Lunes\n",
            "Ànimos, aún es Martes\n",
            "Ànimos, aún es Miércoles\n",
            "Ànimos, aún es Jueves\n",
            "Ànimos, aún es Viernes\n",
            "Viva, ya es Sábado\n",
            "Viva, ya es Domingo\n"
          ]
        },
        {
          "data": {
            "text/plain": [
              "[None, None, None, None, None, None, None]"
            ]
          },
          "execution_count": 16,
          "metadata": {},
          "output_type": "execute_result"
        }
      ],
      "source": [
        "#b) \n",
        "\n",
        "# Creamos las listas\n",
        "days = ['Lunes','Martes','Miércoles','Jueves','Viernes','Sábado','Domingo']\n",
        "weekend = ['Sábado','Domingo']\n",
        "\n",
        "# Mostramos el resultado por pantalla\n",
        "[print(f\"Viva, ya es {d}\") if d in weekend else print(f\"Ànimos, aún es {d}\") for d in days]"
      ]
    },
    {
      "cell_type": "markdown",
      "metadata": {
        "id": "9RYbuRAZ7ANt"
      },
      "source": [
        "**Respuesta**"
      ]
    },
    {
      "cell_type": "markdown",
      "metadata": {
        "id": "VKgvsp1i7ANt"
      },
      "source": [
        "### Ejercicio 4"
      ]
    },
    {
      "cell_type": "markdown",
      "metadata": {
        "id": "s8Yyhb277ANt"
      },
      "source": [
        "Mientras que las *list comprehensions* se utilizan para crear listas, la lambda es una función que se puede procesar como otras funciones y, por tanto, devolver valores o listas. En este ejercicio pondremos en práctica distintas funcionalidades de este tipo de funciones.\n",
        "\n",
        "En los siguientes apartados, completa el código escribiendo la función lambda que realice la función indicada. Los guiones --- indican dónde deberías poner la función lambda.\n",
        "\n",
        "a) Dada la siguiente lista (list_str), escribe una función lambda que devuelva los elementos de la lista que comienzan por \"h\". Muestra los elementos por pantalla.<span style = \"font-family: Courier New; background-color: #82b74b; color: #000000; padding: 3px; \">NM</span> (**0.25 puntos**)\n",
        "\n",
        "list_str = [\"hello\",\"hola\",\"salut\",\"ciao\", \"hallo\", \"hi\"] \n",
        "\n",
        "list(filter(lambda x: ---, list_str))\n",
        "\n",
        "b) Dada la lista del apartado b), escribe una función lambda que se quede con el elemento de la lista de menor longitud (es decir, el string más corto). Muestra el elemento por pantalla.<span style = \"font-family: Courier New; background-color: #82b74b; color: #000000; padding: 3px; \">NM</span> (**0.25 puntos**)\n",
        "\n",
        "min_list = min(list_str, key = lambda x: ---)\n",
        "\n",
        "c) Escribe una expresión que, dada una lista de números, te cree otra lista con los elementos elevados a la potencia de 5. Puedes utilizar la función pow() para especificar el orden de la potencia (por ejemplo, pow(x, 2) eleva x al cuadrado). \n",
        "\n",
        "En este ejercicio no os damos el código para completar, sino que deberas escribir toda la expresión (no sólo la función lambda). Puede ser útil explorar la funcionalidad de [map()](https://cs.stanford.edu/people/nick/py/python-map-lambda.html). <span style = \"font-family: Courier New; background-color: #ffcc5c; color: #000000; padding: 3px; \">EG</span> (**0.5 puntos**)\n",
        "\n",
        "(**1 punto**)"
      ]
    },
    {
      "cell_type": "code",
      "execution_count": null,
      "metadata": {
        "id": "_gi9-4Nv7ANt"
      },
      "outputs": [],
      "source": [
        "## Respuesta"
      ]
    },
    {
      "cell_type": "markdown",
      "metadata": {
        "id": "xDoJMHp27ANt"
      },
      "source": [
        "### Ejercicio 5"
      ]
    },
    {
      "cell_type": "markdown",
      "metadata": {
        "id": "drDVWR2x7ANt"
      },
      "source": [
        "a) Utiliza la función `range` para mostrar por pantalla los números pares entre 2 y 10 (ambos incluidos): <span style = \"font-family: Courier New; background-color: #82b74b; color: #000000; padding: 3px; \">NM</span> (**0.25 puntos**)"
      ]
    },
    {
      "cell_type": "code",
      "execution_count": null,
      "metadata": {
        "id": "XnQwBoKG7ANt"
      },
      "outputs": [],
      "source": [
        "## Respuesta"
      ]
    },
    {
      "cell_type": "markdown",
      "metadata": {
        "id": "laZ58qfD7ANt"
      },
      "source": [
        "b) Crea una función que, dada una lista, cree una nueva lista con sólo los elementos que estaban en posición par. Utiliza `ennumerate` para identificar los índices pares. <span style = \"font-family: Courier New; background-color: #82b74b; color: #000000; padding: 3px; \">NM</span> (**0.25 puntos**)\n",
        "\n",
        "**Nota**: Considera que el primer elemento de la lista (en este caso, cat), tiene el índice 1. "
      ]
    },
    {
      "cell_type": "code",
      "execution_count": null,
      "metadata": {
        "id": "IgHi2ZFd7ANt"
      },
      "outputs": [],
      "source": [
        "# Creamos la lista\n",
        "list_animals = ['gato','perro','lobo','pez','hamster','leon','tigre','koala']"
      ]
    },
    {
      "cell_type": "code",
      "execution_count": null,
      "metadata": {
        "id": "RJkdhj8T7ANu"
      },
      "outputs": [],
      "source": [
        "## Respuesta"
      ]
    },
    {
      "cell_type": "markdown",
      "metadata": {
        "id": "_eEyYUsH7ANu"
      },
      "source": [
        "c) Crea un código que utilice las 3 listas para construir una frase con la siguiente estructura:\n",
        "\n",
        "`El \"animal\" que pesa \"weight\" se puede tener en casa? \"domestico\"`\n",
        "\n",
        "Recorre todos los elementos de las listas, de modo que resulte en 8 frases diferentes. La 1a frase sería:\n",
        "\n",
        "`El gato que pesa 5kg se puede tener en casa? True`\n",
        "\n",
        "\n",
        "Encuentra dos formas diferentes para obtener el mismo resultado. Una de ellas tiene que utilizar zip(). Cuál te parece más adecuada? Razona la respuesta. <span style = \"font-family: Courier New; background-color: #82b74b; color: #000000; padding: 3px; \">NM</span>\n",
        "(**0.5 puntos**)"
      ]
    },
    {
      "cell_type": "code",
      "execution_count": null,
      "metadata": {
        "id": "liRAQzTf7ANu"
      },
      "outputs": [],
      "source": [
        "# Creamos tres listas\n",
        "list_animals = ['gato','perro','lobo','pez','hamster','leon','tigre','koala']\n",
        "list_weight = [5, 12, 30, 0.5, 1, 50, 60, 15]\n",
        "list_domestic = [True, True, False, True, True, False, False, False]"
      ]
    },
    {
      "cell_type": "code",
      "execution_count": null,
      "metadata": {
        "id": "KgICmvb97ANu"
      },
      "outputs": [],
      "source": [
        "## Respuesta"
      ]
    },
    {
      "cell_type": "markdown",
      "metadata": {
        "id": "-OveFt-87ANu"
      },
      "source": [
        "### Ejercicio 6"
      ]
    },
    {
      "cell_type": "markdown",
      "metadata": {
        "id": "ydsmrGgz7ANu"
      },
      "source": [
        "Hemos encontrado un dataset con información de la población mundial. La primera fila contiene la cabecera, que define cada una de las columnas (Rank, Country, Capital, Continent, 2022_Population y Area).\n",
        "**(1 punto)**\n",
        "\n",
        "a) Abre el archivo y muéstralo por pantalla. <span style = \"font-family: Courier New; background-color: #82b74b; color: #000000; padding: 3px; \">NM</span> (**0.25 puntos**)\n",
        "\n",
        "b) A continuación, responde a las siguientes preguntas:<span style = \"font-family: Courier New; background-color: #82b74b; color: #000000; padding: 3px; \">NM</span> **(0.25 puntos)**\n",
        "- Cuántas ciudades europeas hay?\n",
        "- Cuál es el porcentaje de ciudades europeas respecto al total? Muestra el resultado con 3 decimales.\n",
        "\n",
        "c) Por último, nos interesa tener la información de los países que comienzan por la letra `Z`. Crea un archivo nuevo sólo con las líneas de los países que empiezan por `Z`. <span style = \"font-family: Courier New; background-color: #82b74b; color: #000000; padding: 3px; \">NM</span> (**0.5 puntos**)\n",
        "\n",
        "d) En teoría hemos visto también la librería pandas, que nos permite trabajar con archivos de manera muy sencilla. Utilízala para abrir el archivo de texto y muestra las 10 primeras líneas por pantalla. (**Opcional**)"
      ]
    },
    {
      "cell_type": "code",
      "execution_count": null,
      "metadata": {
        "id": "6Cc0Yxod7ANu"
      },
      "outputs": [],
      "source": [
        "## Respuesta"
      ]
    }
  ],
  "metadata": {
    "kernelspec": {
      "display_name": "Python 3",
      "language": "python",
      "name": "python3"
    },
    "language_info": {
      "codemirror_mode": {
        "name": "ipython",
        "version": 3
      },
      "file_extension": ".py",
      "mimetype": "text/x-python",
      "name": "python",
      "nbconvert_exporter": "python",
      "pygments_lexer": "ipython3",
      "version": "3.8.5"
    },
    "colab": {
      "provenance": [],
      "collapsed_sections": [],
      "include_colab_link": true
    }
  },
  "nbformat": 4,
  "nbformat_minor": 0
}